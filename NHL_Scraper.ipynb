{
 "cells": [
  {
   "cell_type": "code",
   "execution_count": 1,
   "metadata": {},
   "outputs": [],
   "source": [
    "from nhlpy import NHLClient\n",
    "import pandas as pd"
   ]
  },
  {
   "cell_type": "code",
   "execution_count": 3,
   "metadata": {},
   "outputs": [],
   "source": [
    "client = NHLClient()\n",
    "teams = client.teams.teams_info()\n",
    "team_abbrs = []\n",
    "for item in teams:\n",
    "    abbr = item['abbr']\n",
    "    team_abbrs.append(abbr)\n",
    "\n",
    "game_ids = []\n",
    "seasons = [20222023, 20232024, 20242025]\n",
    "\n",
    "for abbreviation in team_abbrs:\n",
    "    for season in seasons:\n",
    "\n",
    "        if abbreviation == 'UTA' and season != 20242025:\n",
    "            abbreviation = 'ARI'\n",
    "\n",
    "        games = client.schedule.get_season_schedule(team_abbr=abbreviation, season=season)['games']\n",
    "\n",
    "        for game in games:\n",
    "            if game['gameType'] == 1:\n",
    "                continue\n",
    "\n",
    "            id = game['id']\n",
    "            if id not in [game_ids]:\n",
    "                game_ids.append(id)"
   ]
  },
  {
   "cell_type": "code",
   "execution_count": 4,
   "metadata": {},
   "outputs": [],
   "source": [
    "def second_diff(time1, time2):\n",
    "    minutes1 = int(time1[0:2])\n",
    "    minutes2 = int(time2[0:2])\n",
    "    seconds1 = int(time1[3:5])\n",
    "    seconds2 = int(time2[3:5])\n",
    "    return abs((minutes2 * 60 + seconds2) - (minutes1 * 60 + seconds1))"
   ]
  },
  {
   "cell_type": "code",
   "execution_count": 11,
   "metadata": {},
   "outputs": [],
   "source": [
    "rows = []\n",
    "for game_id in game_ids:\n",
    "    home_id = client.game_center.play_by_play(game_id=game_id)['homeTeam']['id']\n",
    "    away_id = client.game_center.play_by_play(game_id=game_id)['awayTeam']['id']\n",
    "    pbp = client.game_center.play_by_play(game_id=game_id)['plays']\n",
    "    idx = -1\n",
    "\n",
    "    for play in pbp:\n",
    "        idx += 1\n",
    "        if play['typeDescKey'] not in ['missed-shot', 'goal', 'shot-on-goal']:\n",
    "            continue\n",
    "        home = 0\n",
    "        away = 0\n",
    "        rebound = 0\n",
    "        rush = 0\n",
    "        try:\n",
    "            if home_id == play['details']['eventOwnerTeamId']:\n",
    "                home = 1\n",
    "            else:\n",
    "                away = 1\n",
    "\n",
    "            if (home == 1 and play['situationCode'][0] == '0') or (away == 1 and play['situationCode'][3] == '0'):\n",
    "                continue\n",
    "\n",
    "            if home == 1:\n",
    "                team_id = home_id\n",
    "            else:\n",
    "                team_id = away_id\n",
    "                \n",
    "            time_diff = second_diff(play['timeInPeriod'], pbp[idx - 1]['timeInPeriod'])\n",
    "\n",
    "            if pbp[idx - 1]['typeDescKey'] == 'blocked-shot' and time_diff <= 2:\n",
    "                rebound = 1\n",
    "            \n",
    "            if (pbp[idx-1]['typeDescKey'] in ['missed-shot', 'shot-on-goal']) and time_diff <= 3:\n",
    "                rebound = 1\n",
    "\n",
    "            if (pbp[idx-1]['typeDescKey'] in ['takeaway', 'giveaway']) and time_diff <= 4 and pbp[idx-1]['details']['zoneCode'] in ['N', 'D']:\n",
    "                rush = 1\n",
    "\n",
    "            assist1 = 0\n",
    "            assist2 = 0\n",
    "            home_skaters = play['situationCode'][2]\n",
    "            away_skaters = play['situationCode'][1]\n",
    "            shot_class = play['typeDescKey']\n",
    "            x_coord = abs(play['details']['xCoord'])\n",
    "            y_coord = play['details']['yCoord']\n",
    "            shot_type = play['details']['shotType']\n",
    "            shooter = None\n",
    "            goalie = play['details']['goalieInNetId']\n",
    "            last_play = pbp[idx-1]['typeDescKey']\n",
    "\n",
    "            if shot_class == 'goal':\n",
    "\n",
    "                shooter = play['details']['scoringPlayerId']\n",
    "\n",
    "                if 'assist1PlayerId' in play['details']:\n",
    "                    assist1 = play['details']['assist1PlayerId']\n",
    "\n",
    "                if 'assist2PlayerId' in play['details']:\n",
    "                    assist2 = play['details']['assist2PlayerId']\n",
    "                    \n",
    "            else:\n",
    "\n",
    "                shooter = play['details']['shootingPlayerId']\n",
    "\n",
    "            rows.append([game_id, team_id, home, last_play, rebound, rush, home_skaters, away_skaters, x_coord, y_coord, shooter, assist1, assist2, goalie, shot_type, shot_class])\n",
    "        except:\n",
    "            continue"
   ]
  },
  {
   "cell_type": "code",
   "execution_count": 13,
   "metadata": {},
   "outputs": [],
   "source": [
    "header = ['game_id', 'team_id', 'home', 'last_play', 'rebound', 'rush', 'home_skaters', 'away_skaters', 'x_coord', 'y_coord', 'shooter', 'assist1', 'assist2', 'goalie', 'shot_type', 'shot_class']"
   ]
  },
  {
   "cell_type": "code",
   "execution_count": 18,
   "metadata": {},
   "outputs": [
    {
     "name": "stdout",
     "output_type": "stream",
     "text": [
      "<class 'pandas.core.frame.DataFrame'>\n",
      "RangeIndex: 586565 entries, 0 to 586564\n",
      "Data columns (total 16 columns):\n",
      " #   Column        Non-Null Count   Dtype \n",
      "---  ------        --------------   ----- \n",
      " 0   game_id       586565 non-null  int64 \n",
      " 1   team_id       586565 non-null  int64 \n",
      " 2   home          586565 non-null  int64 \n",
      " 3   last_play     586565 non-null  object\n",
      " 4   rebound       586565 non-null  int64 \n",
      " 5   rush          586565 non-null  int64 \n",
      " 6   home_skaters  586565 non-null  object\n",
      " 7   away_skaters  586565 non-null  object\n",
      " 8   x_coord       586565 non-null  int64 \n",
      " 9   y_coord       586565 non-null  int64 \n",
      " 10  shooter       586565 non-null  int64 \n",
      " 11  assist1       586565 non-null  int64 \n",
      " 12  assist2       586565 non-null  int64 \n",
      " 13  goalie        586565 non-null  int64 \n",
      " 14  shot_type     586565 non-null  object\n",
      " 15  shot_class    586565 non-null  object\n",
      "dtypes: int64(11), object(5)\n",
      "memory usage: 71.6+ MB\n"
     ]
    }
   ],
   "source": [
    "df = pd.DataFrame(rows, columns=header)\n",
    "df.info()"
   ]
  },
  {
   "cell_type": "code",
   "execution_count": 16,
   "metadata": {},
   "outputs": [],
   "source": [
    "df.to_csv('nhl_shot_data.csv')"
   ]
  }
 ],
 "metadata": {
  "kernelspec": {
   "display_name": "Python 3",
   "language": "python",
   "name": "python3"
  },
  "language_info": {
   "codemirror_mode": {
    "name": "ipython",
    "version": 3
   },
   "file_extension": ".py",
   "mimetype": "text/x-python",
   "name": "python",
   "nbconvert_exporter": "python",
   "pygments_lexer": "ipython3",
   "version": "3.12.8"
  }
 },
 "nbformat": 4,
 "nbformat_minor": 2
}
